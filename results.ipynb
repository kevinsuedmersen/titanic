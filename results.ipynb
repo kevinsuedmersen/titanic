{
 "cells": [
  {
   "cell_type": "markdown",
   "id": "attractive-professor",
   "metadata": {},
   "source": [
    "# Titanic ML Competition\n",
    "Goal: Predict whether a passenger survives or not"
   ]
  },
  {
   "cell_type": "code",
   "execution_count": 1,
   "id": "overall-silicon",
   "metadata": {},
   "outputs": [
    {
     "name": "stderr",
     "output_type": "stream",
     "text": [
      "2021-02-15 21:38:09,907; src.utils; INFO; Root logger is set up\n"
     ]
    }
   ],
   "source": [
    "import logging\n",
    "from src.preprocessing import Dataset\n",
    "from src.training import Model\n",
    "from src.utils import set_root_logger\n",
    "from IPython.display import display, HTML\n",
    "\n",
    "logger = logging.getLogger(__name__)\n",
    "set_root_logger()"
   ]
  },
  {
   "cell_type": "markdown",
   "id": "affiliated-chapel",
   "metadata": {},
   "source": [
    "## Exploratory Data Analysis\n",
    "- What kind of columns does the dataset have? Which one are numeric, which one are categorical?\n",
    "- Are there missing values?\n",
    "- Are there duplicates?\n",
    "- How is the ground truth distributed? ==> Important for evaluation metric choice. If unequally distributed, accuracy might be misleading and precision/recall/f1 might be better\n",
    "- \"Datenverständnis\" gewinnen"
   ]
  },
  {
   "cell_type": "code",
   "execution_count": 2,
   "id": "voluntary-promise",
   "metadata": {
    "scrolled": false
   },
   "outputs": [
    {
     "name": "stderr",
     "output_type": "stream",
     "text": [
      "2021-02-15 21:38:09,933; src.preprocessing; INFO; Train samples: \"891\"\n",
      "2021-02-15 21:38:09,950; src.preprocessing; INFO; Test samples: \"418\"\n",
      "2021-02-15 21:38:09,989; src.preprocessing; INFO; Total samples: \"1309\"\n",
      "2021-02-15 21:38:09,993; src.preprocessing; INFO; Joined train and test sets together for the preprocessing. For training and testing, they will be separated again\n",
      "2021-02-15 21:38:09,996; src.preprocessing; INFO; Generating the profiling report\n"
     ]
    },
    {
     "data": {
      "application/vnd.jupyter.widget-view+json": {
       "model_id": "24d4891ebd5c400c89238d1547f09d7b",
       "version_major": 2,
       "version_minor": 0
      },
      "text/plain": [
       "Summarize dataset:   0%|          | 0/26 [00:00<?, ?it/s]"
      ]
     },
     "metadata": {},
     "output_type": "display_data"
    },
    {
     "data": {
      "application/vnd.jupyter.widget-view+json": {
       "model_id": "bba4ed18c59b4621ba230b9b99063c55",
       "version_major": 2,
       "version_minor": 0
      },
      "text/plain": [
       "Generate report structure:   0%|          | 0/1 [00:00<?, ?it/s]"
      ]
     },
     "metadata": {},
     "output_type": "display_data"
    },
    {
     "data": {
      "application/vnd.jupyter.widget-view+json": {
       "model_id": "68b02458d1b442c08529d59843817408",
       "version_major": 2,
       "version_minor": 0
      },
      "text/plain": [
       "Render HTML:   0%|          | 0/1 [00:00<?, ?it/s]"
      ]
     },
     "metadata": {},
     "output_type": "display_data"
    },
    {
     "data": {
      "application/vnd.jupyter.widget-view+json": {
       "model_id": "397729d655294feaafec997c3cf754f2",
       "version_major": 2,
       "version_minor": 0
      },
      "text/plain": [
       "Export report to file:   0%|          | 0/1 [00:00<?, ?it/s]"
      ]
     },
     "metadata": {},
     "output_type": "display_data"
    },
    {
     "name": "stderr",
     "output_type": "stream",
     "text": [
      "2021-02-15 21:38:25,668; src.preprocessing; INFO; Saved the pandas-profiling report to ``results/ds_profile_report.html``\n"
     ]
    }
   ],
   "source": [
    "# Exploratory data analysis\n",
    "ds = Dataset(\n",
    "    df_path_train='/home/kevinsuedmersen/dev/titanic/data/train.csv',\n",
    "    df_path_test='/home/kevinsuedmersen/dev/titanic/data/test.csv',\n",
    "    id_col='PassengerId',\n",
    "    ground_truth='Survived'\n",
    ")\n",
    "ds.profile(title='ds_profile_report', html_path='results/ds_profile_report.html')"
   ]
  },
  {
   "cell_type": "markdown",
   "id": "retained-render",
   "metadata": {},
   "source": [
    "- Ground truth (Survived) not very equally distributed ==> Also use precision, recall and f1 when evaluating the model. Should hyper-parameter tuning be performed, the best model will be chosen based on accuracy though, because this is the main evaluation metric used in the kaggle competition\n",
    "- Survival might depend on socio-economic status which might be inherent in the person's name or title. ==> Try to split up the name column in `first_name`, `middle_name`, `last_name`, `title`\n",
    "- Lots of missing values in `Age` and distribution looks skewed with some outliers. ==> Fill with median, because in skewed distributions, the median might be better representation of a \"common\" value \n",
    "- Survival might depend on gender, because woman and children were supposed to board the emergency boats first\n",
    "- Extract some more information from `Ticket`, such as sections, floors, etc. Passengers from lower decks might have lower survival chances, because lower decks could have been flooded first\n",
    "- 0.2% Missing values of `Fare` in the test dataset ==> Fill with median, because its distribution is highly skewed \n",
    "- more than 75% missing values in `Cabin` ==> Either ignore that column completely, or fill with mode\n",
    "- Few missing values in `Embarked`. ==> Fill with mode"
   ]
  },
  {
   "cell_type": "markdown",
   "id": "impressed-berry",
   "metadata": {},
   "source": [
    "## Iteration 1\n",
    "- Fill `Age` with median\n",
    "- Fill `Embarked` with mode\n",
    "- Label-encode `Pclass` such that class 1 (for the rich and famous people) has the highest value and class 3 (for working class people) has the lowest value\n",
    "- One-hot encode the following categorical variables: `Sex, Embarked`\n",
    "- Only use the following predictors: `Pclass, Sex, Age, SibSp, Parch, Fare, Embarked`\n",
    "- Use SVM with default parameters"
   ]
  },
  {
   "cell_type": "code",
   "execution_count": 3,
   "id": "healthy-signal",
   "metadata": {
    "scrolled": false
   },
   "outputs": [
    {
     "name": "stderr",
     "output_type": "stream",
     "text": [
      "2021-02-15 21:38:25,689; src.preprocessing; INFO; The median of column ``Age`` equals: 28.0\n",
      "2021-02-15 21:38:25,692; src.preprocessing; INFO; The mode of column ``Embarked`` equals: S\n",
      "2021-02-15 21:38:25,701; src.preprocessing; INFO; The median of column ``Fare`` equals: 14.4542\n",
      "2021-02-15 21:38:25,707; src.preprocessing; INFO; Converted column ``Pclass`` using the custom mapping ``{1: 3, 2: 2, 3: 1}``\n",
      "2021-02-15 21:38:25,710; src.preprocessing; INFO; Converted column ``Sex`` using the custom mapping ``{'male': 1, 'female': 0}``\n",
      "2021-02-15 21:38:25,725; src.preprocessing; INFO; One-hot encoded the column ``Embarked``\n",
      "2021-02-15 21:38:25,729; src.preprocessing; INFO; Preprocessing finished\n",
      "2021-02-15 21:38:25,730; src.preprocessing; INFO; Available columns: ['PassengerId', 'Survived', 'Pclass', 'Name', 'Sex', 'Age', 'SibSp', 'Parch', 'Ticket', 'Fare', 'Cabin', 'Embarked', 'Embarked_C', 'Embarked_Q', 'Embarked_S']\n",
      "2021-02-15 21:38:25,747; src.training; INFO; Training ``svm`` started\n",
      "2021-02-15 21:38:25,757; src.training; INFO; Saved the trained model to ``results/min_max_scaler.pickle``\n",
      "2021-02-15 21:38:25,774; src.training; INFO; Training finished\n",
      "2021-02-15 21:38:25,792; src.training; INFO; Results on the validation set: accuracy 0.80, precision 0.86, recall 0.61, f1 0.72\n",
      "2021-02-15 21:38:25,794; src.training; INFO; Saved the trained model to ``results/svm_model.pickle``\n",
      "2021-02-15 21:38:25,802; src.training; INFO; Saved the trained model to ``results/min_max_scaler.pickle``\n",
      "2021-02-15 21:38:25,805; src.training; INFO; Generating predictions on the test set\n",
      "2021-02-15 21:38:25,820; src.training; INFO; Saved submission to ``results/basic_preprocessing_submission.csv``\n"
     ]
    }
   ],
   "source": [
    "# Configurations\n",
    "col_name_to_fill_method = {\n",
    "    'Age': 'median', \n",
    "    'Embarked': 'mode',\n",
    "    'Fare': 'median'\n",
    "}\n",
    "col_name_to_encoding = {\n",
    "    'Pclass': {1: 3, 2: 2, 3: 1}, # original_value: encoding_value\n",
    "    'Sex': {'male': 1, 'female': 0},\n",
    "    'Embarked': 'one_hot'\n",
    "}\n",
    "\n",
    "# Preprocessing\n",
    "ds.do_basic_preprocessing(col_name_to_fill_method, col_name_to_encoding)\n",
    "cols_to_drop = ['Name', 'Ticket', 'Cabin', 'Embarked']\n",
    "train_df = ds.select(cols_to_drop, mode='training')\n",
    "test_df = ds.select(cols_to_drop, mode='testing')\n",
    "\n",
    "# Training, predicting and evaluating\n",
    "model = Model(\n",
    "    model_name='svm',\n",
    "    model_path='results/svm_model.pickle', \n",
    "    ground_truth='Survived', \n",
    "    id_col_name='PassengerId',\n",
    "    scaling_mode='min_max',\n",
    "    scaler_path='results/min_max_scaler.pickle',\n",
    "    kernel='rbf'\n",
    ")\n",
    "model.train_and_evaluate(train_df)\n",
    "model.gen_submission_file(test_df, submission_path='results/basic_preprocessing_submission.csv')"
   ]
  },
  {
   "cell_type": "markdown",
   "id": "alpha-minister",
   "metadata": {},
   "source": [
    "### Results iteration 1\n",
    "After uploading our submission file `results/basic_prepreprocessing_submission.csv` to kaggle, the result on the test set was an accuracy score of `0.77751`"
   ]
  },
  {
   "cell_type": "markdown",
   "id": "dangerous-logan",
   "metadata": {},
   "source": [
    "## Iteration 2\n",
    "- Use the same configurations like in iteration 1\n",
    "- "
   ]
  },
  {
   "cell_type": "code",
   "execution_count": 4,
   "id": "modern-transformation",
   "metadata": {
    "scrolled": true
   },
   "outputs": [
    {
     "name": "stderr",
     "output_type": "stream",
     "text": [
      "2021-02-15 21:38:25,891; src.preprocessing; INFO; Available columns: ['PassengerId', 'Survived', 'Pclass', 'Name', 'Sex', 'Age', 'SibSp', 'Parch', 'Ticket', 'Fare', 'Cabin', 'Embarked', 'Embarked_C', 'Embarked_Q', 'Embarked_S', 'name_len', 'family_size', 'has_cabin', 'is_alone', 'fare_category', 'age_category', 'title', 'title_capt', 'title_col', 'title_countess', 'title_don', 'title_dona', 'title_dr', 'title_jonkheer', 'title_lady', 'title_major', 'title_master', 'title_miss', 'title_mlle', 'title_mme', 'title_mr', 'title_mrs', 'title_ms', 'title_rev', 'title_sir']\n",
      "2021-02-15 21:38:25,896; src.training; INFO; Training ``svm`` started\n",
      "2021-02-15 21:38:25,902; src.training; INFO; Saved the trained model to ``results/min_max_scaler.pickle``\n",
      "2021-02-15 21:38:25,927; src.training; INFO; Training finished\n",
      "2021-02-15 21:38:25,942; src.training; INFO; Results on the validation set: accuracy 0.82, precision 0.85, recall 0.68, f1 0.76\n",
      "2021-02-15 21:38:25,944; src.training; INFO; Saved the trained model to ``results/svm_model.pickle``\n",
      "2021-02-15 21:38:25,950; src.training; INFO; Saved the trained model to ``results/min_max_scaler.pickle``\n",
      "2021-02-15 21:38:25,951; src.training; INFO; Generating predictions on the test set\n",
      "2021-02-15 21:38:25,972; src.training; INFO; Saved submission to ``results/advanced_preprocessing_submission.csv``\n"
     ]
    }
   ],
   "source": [
    "# Preprocessing\n",
    "ds.do_advanced_preprocessing()\n",
    "cols_to_drop += ['title']\n",
    "train_df = ds.select(cols_to_drop, mode='training')\n",
    "test_df = ds.select(cols_to_drop, mode='testing')\n",
    "\n",
    "# Training, predicting and evaluating\n",
    "model = Model(\n",
    "    model_name='svm',\n",
    "    model_path='results/svm_model.pickle', \n",
    "    ground_truth='Survived', \n",
    "    id_col_name='PassengerId',\n",
    "    scaling_mode='min_max',\n",
    "    scaler_path='results/min_max_scaler.pickle',\n",
    "    kernel='rbf'\n",
    ")\n",
    "model.train_and_evaluate(train_df)\n",
    "model.gen_submission_file(test_df, submission_path='results/advanced_preprocessing_submission.csv')"
   ]
  },
  {
   "cell_type": "markdown",
   "id": "substantial-needle",
   "metadata": {},
   "source": [
    "### Results iteration 2\n",
    "After uploaded the `results/advanced_preprocessing_submission.csv` file to kaggle, the accuracy on the test set was ``"
   ]
  },
  {
   "cell_type": "markdown",
   "id": "electric-bookmark",
   "metadata": {},
   "source": [
    "## TODO: \n",
    "- Explain used model\n",
    "- Feature engineering\n",
    "- Precision recall Plot\n",
    "- Confusion matrix\n",
    "- Update docstrings"
   ]
  }
 ],
 "metadata": {
  "kernelspec": {
   "display_name": "Python 3",
   "language": "python",
   "name": "python3"
  },
  "language_info": {
   "codemirror_mode": {
    "name": "ipython",
    "version": 3
   },
   "file_extension": ".py",
   "mimetype": "text/x-python",
   "name": "python",
   "nbconvert_exporter": "python",
   "pygments_lexer": "ipython3",
   "version": "3.8.6"
  }
 },
 "nbformat": 4,
 "nbformat_minor": 5
}
