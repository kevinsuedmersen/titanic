{
 "cells": [
  {
   "cell_type": "markdown",
   "id": "attractive-professor",
   "metadata": {},
   "source": [
    "# Titanic ML Competition\n",
    "Goal: Predict whether a passenger survives or not"
   ]
  },
  {
   "cell_type": "code",
   "execution_count": 1,
   "id": "overall-silicon",
   "metadata": {},
   "outputs": [],
   "source": [
    "from src.preprocessing import Dataset\n",
    "from src.utils import set_root_logger\n",
    "from IPython.display import display, HTML"
   ]
  },
  {
   "cell_type": "code",
   "execution_count": 2,
   "id": "inner-following",
   "metadata": {},
   "outputs": [
    {
     "name": "stderr",
     "output_type": "stream",
     "text": [
      "2021-02-14 16:04:54,539; src.utils; INFO; Root logger is set up\n",
      "2021-02-14 16:04:54,551; src.preprocessing; INFO; Read dataframe from ``/home/kevinsuedmersen/dev/titanic/data/train.csv`` into memory\n"
     ]
    }
   ],
   "source": [
    "set_root_logger()\n",
    "train_ds = Dataset(\n",
    "    df_path='/home/kevinsuedmersen/dev/titanic/data/train.csv',\n",
    "    ground_truth='Survived',\n",
    "    id_col='PassengerId'\n",
    ")"
   ]
  },
  {
   "cell_type": "markdown",
   "id": "affiliated-chapel",
   "metadata": {},
   "source": [
    "## Exploratory Data Analysis\n",
    "- What kind of columns does the dataset have? Which one are numeric, which one are categorical?\n",
    "- Are there missing values?\n",
    "- Are there duplicates?\n",
    "- How is the ground truth distributed? ==> Important for evaluation metric choice. If unequally distributed, accuracy might be misleading and precision/recall/f1 might be better\n",
    "- \"Datenverständnis\" gewinnen"
   ]
  },
  {
   "cell_type": "code",
   "execution_count": 3,
   "id": "voluntary-promise",
   "metadata": {
    "scrolled": false
   },
   "outputs": [
    {
     "name": "stderr",
     "output_type": "stream",
     "text": [
      "2021-02-14 16:04:54,563; src.preprocessing; INFO; A profiling report was already generated and is located at ``results/train_ds_profiling.html``\n"
     ]
    }
   ],
   "source": [
    "train_ds.profile(html_path='results/train_ds_profiling.html')"
   ]
  },
  {
   "cell_type": "markdown",
   "id": "retained-render",
   "metadata": {},
   "source": [
    "- Ground truth (Survived) not very equally distributed ==> Also use precision, recall and f1 when evaluating the model. Should hyper-parameter tuning be performed, the best model will be chosen based on accuracy though, because this is the main evaluation metric used in the kaggle competition\n",
    "- Survival might depend on socio-economic status which might be inherent in the person's name or title. ==> Try to split up the name column in `first_name`, `middle_name`, `last_name`, `title`\n",
    "- Lots of missing values in `Age` and distribution looks skewed with some outliers. ==> Fill with median, because in skewed distributions, the median might be better representation of a \"common\" value \n",
    "- Survival might depend on gender, because woman and children were supposed to board the emergency boats first\n",
    "- Extract some more information from `Ticket`, such as sections, floors, etc. Passengers from lower decks might have lower survival chances, because lower decks could have been flooded first\n",
    "- 77.1% missing values in `Cabin` ==> Either ignore that column completely, or fill with mode\n",
    "- Few missing values in `Embarked`. ==> Fill with mode"
   ]
  },
  {
   "cell_type": "markdown",
   "id": "impressed-berry",
   "metadata": {},
   "source": [
    "## Iteration 1\n",
    "- Fill `Age` with median\n",
    "- Fill `Embarked` with mode\n",
    "- Label-encode `Pclass` such that class 1 (for the rich and famous people) has the highest value and class 3 (for working class people) has the lowest value\n",
    "- One-hot encode the following categorical variables: `Sex, Embarked`\n",
    "- Only use the following predictors: `Pclass, Sex, Age, SibSp, Parch, Fare, Embarked`"
   ]
  },
  {
   "cell_type": "code",
   "execution_count": 4,
   "id": "young-greenhouse",
   "metadata": {},
   "outputs": [
    {
     "name": "stderr",
     "output_type": "stream",
     "text": [
      "2021-02-14 16:04:54,605; src.preprocessing; INFO; The median of column ``Age`` equals: 28.0\n",
      "2021-02-14 16:04:54,614; src.preprocessing; INFO; The mode of column ``Embarked`` equals: S\n",
      "2021-02-14 16:04:54,621; src.preprocessing; INFO; Converted column ``Pclass`` using the custom mapping ``{1: 3, 2: 2, 3: 1}``\n",
      "2021-02-14 16:04:54,629; src.preprocessing; INFO; One-hot encoded the column ``Sex``\n",
      "2021-02-14 16:04:54,633; src.preprocessing; INFO; One-hot encoded the column ``Embarked``\n",
      "2021-02-14 16:04:54,634; src.preprocessing; INFO; Preprocessing finished\n"
     ]
    },
    {
     "data": {
      "text/html": [
       "<div>\n",
       "<style scoped>\n",
       "    .dataframe tbody tr th:only-of-type {\n",
       "        vertical-align: middle;\n",
       "    }\n",
       "\n",
       "    .dataframe tbody tr th {\n",
       "        vertical-align: top;\n",
       "    }\n",
       "\n",
       "    .dataframe thead th {\n",
       "        text-align: right;\n",
       "    }\n",
       "</style>\n",
       "<table border=\"1\" class=\"dataframe\">\n",
       "  <thead>\n",
       "    <tr style=\"text-align: right;\">\n",
       "      <th></th>\n",
       "      <th>Pclass</th>\n",
       "      <th>Age</th>\n",
       "      <th>SibSp</th>\n",
       "      <th>Parch</th>\n",
       "      <th>Fare</th>\n",
       "      <th>Survived</th>\n",
       "      <th>PassengerId</th>\n",
       "      <th>Sex_female</th>\n",
       "      <th>Sex_male</th>\n",
       "      <th>Embarked_C</th>\n",
       "      <th>Embarked_Q</th>\n",
       "      <th>Embarked_S</th>\n",
       "    </tr>\n",
       "  </thead>\n",
       "  <tbody>\n",
       "    <tr>\n",
       "      <th>0</th>\n",
       "      <td>1</td>\n",
       "      <td>22.0</td>\n",
       "      <td>1</td>\n",
       "      <td>0</td>\n",
       "      <td>7.2500</td>\n",
       "      <td>0</td>\n",
       "      <td>1</td>\n",
       "      <td>0</td>\n",
       "      <td>1</td>\n",
       "      <td>0</td>\n",
       "      <td>0</td>\n",
       "      <td>1</td>\n",
       "    </tr>\n",
       "    <tr>\n",
       "      <th>1</th>\n",
       "      <td>3</td>\n",
       "      <td>38.0</td>\n",
       "      <td>1</td>\n",
       "      <td>0</td>\n",
       "      <td>71.2833</td>\n",
       "      <td>1</td>\n",
       "      <td>2</td>\n",
       "      <td>1</td>\n",
       "      <td>0</td>\n",
       "      <td>1</td>\n",
       "      <td>0</td>\n",
       "      <td>0</td>\n",
       "    </tr>\n",
       "    <tr>\n",
       "      <th>2</th>\n",
       "      <td>1</td>\n",
       "      <td>26.0</td>\n",
       "      <td>0</td>\n",
       "      <td>0</td>\n",
       "      <td>7.9250</td>\n",
       "      <td>1</td>\n",
       "      <td>3</td>\n",
       "      <td>1</td>\n",
       "      <td>0</td>\n",
       "      <td>0</td>\n",
       "      <td>0</td>\n",
       "      <td>1</td>\n",
       "    </tr>\n",
       "    <tr>\n",
       "      <th>3</th>\n",
       "      <td>3</td>\n",
       "      <td>35.0</td>\n",
       "      <td>1</td>\n",
       "      <td>0</td>\n",
       "      <td>53.1000</td>\n",
       "      <td>1</td>\n",
       "      <td>4</td>\n",
       "      <td>1</td>\n",
       "      <td>0</td>\n",
       "      <td>0</td>\n",
       "      <td>0</td>\n",
       "      <td>1</td>\n",
       "    </tr>\n",
       "    <tr>\n",
       "      <th>4</th>\n",
       "      <td>1</td>\n",
       "      <td>35.0</td>\n",
       "      <td>0</td>\n",
       "      <td>0</td>\n",
       "      <td>8.0500</td>\n",
       "      <td>0</td>\n",
       "      <td>5</td>\n",
       "      <td>0</td>\n",
       "      <td>1</td>\n",
       "      <td>0</td>\n",
       "      <td>0</td>\n",
       "      <td>1</td>\n",
       "    </tr>\n",
       "    <tr>\n",
       "      <th>...</th>\n",
       "      <td>...</td>\n",
       "      <td>...</td>\n",
       "      <td>...</td>\n",
       "      <td>...</td>\n",
       "      <td>...</td>\n",
       "      <td>...</td>\n",
       "      <td>...</td>\n",
       "      <td>...</td>\n",
       "      <td>...</td>\n",
       "      <td>...</td>\n",
       "      <td>...</td>\n",
       "      <td>...</td>\n",
       "    </tr>\n",
       "    <tr>\n",
       "      <th>886</th>\n",
       "      <td>2</td>\n",
       "      <td>27.0</td>\n",
       "      <td>0</td>\n",
       "      <td>0</td>\n",
       "      <td>13.0000</td>\n",
       "      <td>0</td>\n",
       "      <td>887</td>\n",
       "      <td>0</td>\n",
       "      <td>1</td>\n",
       "      <td>0</td>\n",
       "      <td>0</td>\n",
       "      <td>1</td>\n",
       "    </tr>\n",
       "    <tr>\n",
       "      <th>887</th>\n",
       "      <td>3</td>\n",
       "      <td>19.0</td>\n",
       "      <td>0</td>\n",
       "      <td>0</td>\n",
       "      <td>30.0000</td>\n",
       "      <td>1</td>\n",
       "      <td>888</td>\n",
       "      <td>1</td>\n",
       "      <td>0</td>\n",
       "      <td>0</td>\n",
       "      <td>0</td>\n",
       "      <td>1</td>\n",
       "    </tr>\n",
       "    <tr>\n",
       "      <th>888</th>\n",
       "      <td>1</td>\n",
       "      <td>28.0</td>\n",
       "      <td>1</td>\n",
       "      <td>2</td>\n",
       "      <td>23.4500</td>\n",
       "      <td>0</td>\n",
       "      <td>889</td>\n",
       "      <td>1</td>\n",
       "      <td>0</td>\n",
       "      <td>0</td>\n",
       "      <td>0</td>\n",
       "      <td>1</td>\n",
       "    </tr>\n",
       "    <tr>\n",
       "      <th>889</th>\n",
       "      <td>3</td>\n",
       "      <td>26.0</td>\n",
       "      <td>0</td>\n",
       "      <td>0</td>\n",
       "      <td>30.0000</td>\n",
       "      <td>1</td>\n",
       "      <td>890</td>\n",
       "      <td>0</td>\n",
       "      <td>1</td>\n",
       "      <td>1</td>\n",
       "      <td>0</td>\n",
       "      <td>0</td>\n",
       "    </tr>\n",
       "    <tr>\n",
       "      <th>890</th>\n",
       "      <td>1</td>\n",
       "      <td>32.0</td>\n",
       "      <td>0</td>\n",
       "      <td>0</td>\n",
       "      <td>7.7500</td>\n",
       "      <td>0</td>\n",
       "      <td>891</td>\n",
       "      <td>0</td>\n",
       "      <td>1</td>\n",
       "      <td>0</td>\n",
       "      <td>1</td>\n",
       "      <td>0</td>\n",
       "    </tr>\n",
       "  </tbody>\n",
       "</table>\n",
       "<p>891 rows × 12 columns</p>\n",
       "</div>"
      ],
      "text/plain": [
       "     Pclass   Age  SibSp  Parch     Fare  Survived  PassengerId  Sex_female  \\\n",
       "0         1  22.0      1      0   7.2500         0            1           0   \n",
       "1         3  38.0      1      0  71.2833         1            2           1   \n",
       "2         1  26.0      0      0   7.9250         1            3           1   \n",
       "3         3  35.0      1      0  53.1000         1            4           1   \n",
       "4         1  35.0      0      0   8.0500         0            5           0   \n",
       "..      ...   ...    ...    ...      ...       ...          ...         ...   \n",
       "886       2  27.0      0      0  13.0000         0          887           0   \n",
       "887       3  19.0      0      0  30.0000         1          888           1   \n",
       "888       1  28.0      1      2  23.4500         0          889           1   \n",
       "889       3  26.0      0      0  30.0000         1          890           0   \n",
       "890       1  32.0      0      0   7.7500         0          891           0   \n",
       "\n",
       "     Sex_male  Embarked_C  Embarked_Q  Embarked_S  \n",
       "0           1           0           0           1  \n",
       "1           0           1           0           0  \n",
       "2           0           0           0           1  \n",
       "3           0           0           0           1  \n",
       "4           1           0           0           1  \n",
       "..        ...         ...         ...         ...  \n",
       "886         1           0           0           1  \n",
       "887         0           0           0           1  \n",
       "888         0           0           0           1  \n",
       "889         1           1           0           0  \n",
       "890         1           0           1           0  \n",
       "\n",
       "[891 rows x 12 columns]"
      ]
     },
     "metadata": {},
     "output_type": "display_data"
    },
    {
     "name": "stdout",
     "output_type": "stream",
     "text": [
      "<class 'pandas.core.frame.DataFrame'>\n",
      "RangeIndex: 891 entries, 0 to 890\n",
      "Data columns (total 12 columns):\n",
      " #   Column       Non-Null Count  Dtype  \n",
      "---  ------       --------------  -----  \n",
      " 0   Pclass       891 non-null    int64  \n",
      " 1   Age          891 non-null    float64\n",
      " 2   SibSp        891 non-null    int64  \n",
      " 3   Parch        891 non-null    int64  \n",
      " 4   Fare         891 non-null    float64\n",
      " 5   Survived     891 non-null    int64  \n",
      " 6   PassengerId  891 non-null    int64  \n",
      " 7   Sex_female   891 non-null    uint8  \n",
      " 8   Sex_male     891 non-null    uint8  \n",
      " 9   Embarked_C   891 non-null    uint8  \n",
      " 10  Embarked_Q   891 non-null    uint8  \n",
      " 11  Embarked_S   891 non-null    uint8  \n",
      "dtypes: float64(2), int64(5), uint8(5)\n",
      "memory usage: 53.2 KB\n",
      "None\n"
     ]
    }
   ],
   "source": [
    "# Preprocessing configuration\n",
    "predictors = ['Pclass', 'Sex', 'Age', 'SibSp', 'Parch', 'Fare', 'Embarked']\n",
    "col_name_to_fill_method = {\n",
    "    'Age': 'median', \n",
    "    'Embarked': 'mode'\n",
    "}\n",
    "col_name_to_encoding = {\n",
    "    'Pclass': {1: 3, 2: 2, 3: 1}, # original_value: encoding_value\n",
    "    'Sex': 'one_hot',\n",
    "    'Embarked': 'one_hot'\n",
    "}\n",
    "train_ds.preprocess_df_iteration_1(col_name_to_fill_method, col_name_to_encoding, predictors)\n",
    "display(train_ds.df)\n",
    "print(train_ds.df.info())"
   ]
  },
  {
   "cell_type": "code",
   "execution_count": 5,
   "id": "empty-primary",
   "metadata": {},
   "outputs": [
    {
     "data": {
      "text/plain": [
       "True"
      ]
     },
     "execution_count": 5,
     "metadata": {},
     "output_type": "execute_result"
    }
   ],
   "source": [
    "train_ds.preprocessing_finished"
   ]
  },
  {
   "cell_type": "markdown",
   "id": "electric-bookmark",
   "metadata": {},
   "source": [
    "## TODO: \n",
    "- Explain used model\n",
    "- Feature Engineering"
   ]
  }
 ],
 "metadata": {
  "kernelspec": {
   "display_name": "Python 3",
   "language": "python",
   "name": "python3"
  },
  "language_info": {
   "codemirror_mode": {
    "name": "ipython",
    "version": 3
   },
   "file_extension": ".py",
   "mimetype": "text/x-python",
   "name": "python",
   "nbconvert_exporter": "python",
   "pygments_lexer": "ipython3",
   "version": "3.8.6"
  }
 },
 "nbformat": 4,
 "nbformat_minor": 5
}
